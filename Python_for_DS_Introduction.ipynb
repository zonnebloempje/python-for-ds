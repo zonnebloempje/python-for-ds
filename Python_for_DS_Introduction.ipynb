{
  "cells": [
    {
      "cell_type": "markdown",
      "metadata": {
        "id": "eCdSUtSLgH4c"
      },
      "source": [
        "#**Python for Data Science - Introduction**"
      ]
    },
    {
      "cell_type": "code",
      "execution_count": null,
      "metadata": {
        "id": "oUkiL1fPf-_D"
      },
      "outputs": [],
      "source": [
        "name = \"Kwak\""
      ]
    },
    {
      "cell_type": "code",
      "execution_count": null,
      "metadata": {
        "colab": {
          "base_uri": "https://localhost:8080/",
          "height": 35
        },
        "id": "9espsR1zhESl",
        "outputId": "f30904a6-69a7-4950-bf28-3c07a38cdc12"
      },
      "outputs": [
        {
          "data": {
            "application/vnd.google.colaboratory.intrinsic+json": {
              "type": "string"
            },
            "text/plain": [
              "'Kwak'"
            ]
          },
          "execution_count": 5,
          "metadata": {},
          "output_type": "execute_result"
        }
      ],
      "source": [
        "name #after a variable is created, you can just pass it alone and it works"
      ]
    },
    {
      "cell_type": "code",
      "execution_count": null,
      "metadata": {
        "id": "3K_DKPCbhQ3l"
      },
      "outputs": [],
      "source": [
        "country = \"Belgium\""
      ]
    },
    {
      "cell_type": "code",
      "execution_count": null,
      "metadata": {
        "colab": {
          "base_uri": "https://localhost:8080/",
          "height": 35
        },
        "id": "TaiC9hDlhaaR",
        "outputId": "12056d9c-93c2-4aba-f128-0750989024df"
      },
      "outputs": [
        {
          "data": {
            "application/vnd.google.colaboratory.intrinsic+json": {
              "type": "string"
            },
            "text/plain": [
              "'Belgium'"
            ]
          },
          "execution_count": 9,
          "metadata": {},
          "output_type": "execute_result"
        }
      ],
      "source": [
        "country"
      ]
    },
    {
      "cell_type": "code",
      "execution_count": null,
      "metadata": {
        "id": "y2lWaPfjhuaj"
      },
      "outputs": [],
      "source": [
        "type = \"beer\""
      ]
    },
    {
      "cell_type": "code",
      "execution_count": null,
      "metadata": {
        "colab": {
          "base_uri": "https://localhost:8080/",
          "height": 35
        },
        "id": "8nkq2SxdhxMK",
        "outputId": "641d862d-0747-46dd-f860-71491d790ba8"
      },
      "outputs": [
        {
          "data": {
            "application/vnd.google.colaboratory.intrinsic+json": {
              "type": "string"
            },
            "text/plain": [
              "'Beer'"
            ]
          },
          "execution_count": 11,
          "metadata": {},
          "output_type": "execute_result"
        }
      ],
      "source": [
        "type"
      ]
    },
    {
      "cell_type": "code",
      "execution_count": null,
      "metadata": {
        "colab": {
          "base_uri": "https://localhost:8080/"
        },
        "id": "vvGaPNXzhzEe",
        "outputId": "27cb1b04-cfff-4187-bb6d-5295faef4d0d"
      },
      "outputs": [
        {
          "name": "stdout",
          "output_type": "stream",
          "text": [
            "Kwak is a beer from Belgium\n"
          ]
        }
      ],
      "source": [
        "print(f\"{name} is a {type} from {country}\") #print is a built-in function"
      ]
    },
    {
      "cell_type": "code",
      "execution_count": null,
      "metadata": {
        "id": "0R0SMFqxiesS"
      },
      "outputs": [],
      "source": [
        "# Let's create our own function\n",
        "\n",
        "def greetings():\n",
        "  name = input('Type your name: ') #Indentations is very important in Python!\n",
        "  print(f'Hi {name}, how are you today?')"
      ]
    },
    {
      "cell_type": "code",
      "execution_count": null,
      "metadata": {
        "colab": {
          "base_uri": "https://localhost:8080/"
        },
        "id": "9o2pucrIi44k",
        "outputId": "7459a68f-61c7-45a7-a644-7ea8f6ae4fcf"
      },
      "outputs": [
        {
          "name": "stdout",
          "output_type": "stream",
          "text": [
            "Type your name: Kwak\n",
            "Hi Kwak, how are you today?\n"
          ]
        }
      ],
      "source": [
        "greetings() #This executes our own function"
      ]
    },
    {
      "cell_type": "code",
      "execution_count": null,
      "metadata": {
        "colab": {
          "base_uri": "https://localhost:8080/"
        },
        "id": "4kv1cxxbjDJ8",
        "outputId": "b3012cf0-6228-4eac-893a-02beb3aa5dce"
      },
      "outputs": [
        {
          "name": "stdout",
          "output_type": "stream",
          "text": [
            "Type your name: Pawel\n",
            "Hi Pawel, how are you today?\n"
          ]
        }
      ],
      "source": [
        "greetings()"
      ]
    },
    {
      "cell_type": "code",
      "execution_count": null,
      "metadata": {
        "id": "8jYObWywjHDP"
      },
      "outputs": [],
      "source": [
        "name = 'Bayo'"
      ]
    },
    {
      "cell_type": "code",
      "execution_count": null,
      "metadata": {
        "id": "ogffnL4ao7MX"
      },
      "outputs": [],
      "source": [
        "def greetings_with_parameters(name):\n",
        "  print(f'Hi {name}, welcome!')"
      ]
    },
    {
      "cell_type": "code",
      "execution_count": null,
      "metadata": {
        "colab": {
          "base_uri": "https://localhost:8080/"
        },
        "id": "rLYUVA4lpEJQ",
        "outputId": "a4421b4e-4c48-48a5-8951-78b693b1a19b"
      },
      "outputs": [
        {
          "name": "stdout",
          "output_type": "stream",
          "text": [
            "Hi Bayo, welcome!\n"
          ]
        }
      ],
      "source": [
        "greetings_with_parameters(name) #The parameter is name. "
      ]
    },
    {
      "cell_type": "code",
      "execution_count": null,
      "metadata": {
        "colab": {
          "base_uri": "https://localhost:8080/"
        },
        "id": "Dc7Ald0ipRx1",
        "outputId": "42a93d5f-66bb-44bc-934a-fa039645502a"
      },
      "outputs": [
        {
          "name": "stdout",
          "output_type": "stream",
          "text": [
            "Speed: 5.0 m/s\n"
          ]
        }
      ],
      "source": [
        "def speed(space, time):\n",
        "  v = space / time\n",
        "  print(f'Speed: {v} m/s')\n",
        "\n",
        "speed(100, 20)"
      ]
    },
    {
      "cell_type": "markdown",
      "metadata": {
        "id": "QuxSY8HJo_ni"
      },
      "source": [
        "#**Conditional Statements**"
      ]
    },
    {
      "cell_type": "code",
      "execution_count": null,
      "metadata": {
        "id": "JP8eJ_fuoCfr"
      },
      "outputs": [],
      "source": [
        "def verify_driving_age(age):\n",
        "  if age >= 18:\n",
        "    print('Able to drive')\n",
        "  else:\n",
        "    print('You cannot drive until you turn 18')"
      ]
    },
    {
      "cell_type": "code",
      "execution_count": null,
      "metadata": {
        "id": "TPJEhjz-qHIW"
      },
      "outputs": [],
      "source": [
        "age = 50"
      ]
    },
    {
      "cell_type": "code",
      "execution_count": null,
      "metadata": {
        "colab": {
          "base_uri": "https://localhost:8080/"
        },
        "id": "34j3xicqn73q",
        "outputId": "4df9d5a2-37cc-4673-b7ff-20692d91fe68"
      },
      "outputs": [
        {
          "name": "stdout",
          "output_type": "stream",
          "text": [
            "Able to drive\n"
          ]
        }
      ],
      "source": [
        "verify_driving_age(age)"
      ]
    },
    {
      "cell_type": "code",
      "execution_count": null,
      "metadata": {
        "colab": {
          "base_uri": "https://localhost:8080/"
        },
        "id": "D1b9lsFcnt3Q",
        "outputId": "1c38a4f2-7a76-488f-c9bf-97f8bb2d50dd"
      },
      "outputs": [
        {
          "name": "stdout",
          "output_type": "stream",
          "text": [
            "Able to drive\n"
          ]
        }
      ],
      "source": [
        "verify_driving_age(20)"
      ]
    },
    {
      "cell_type": "code",
      "execution_count": null,
      "metadata": {
        "colab": {
          "base_uri": "https://localhost:8080/"
        },
        "id": "XOVJlDyRnxJf",
        "outputId": "23eed4a5-4a0a-42be-8ea2-87020611ed93"
      },
      "outputs": [
        {
          "name": "stdout",
          "output_type": "stream",
          "text": [
            "You cannot drive until you turn 18\n"
          ]
        }
      ],
      "source": [
        "verify_driving_age(15)"
      ]
    },
    {
      "cell_type": "code",
      "execution_count": null,
      "metadata": {
        "id": "-_FXmuOVoF_q"
      },
      "outputs": [],
      "source": [
        "def verify_driving_age_wo_parameters():\n",
        "  age = input('What\\'s your age?: ')\n",
        "  age = int(age) #So you can use it as an int instead of a str\n",
        "  if age >= 18:\n",
        "    print('Yes, you can drive')\n",
        "  else:\n",
        "    print('Nope, still too young to drive')\n",
        "\n"
      ]
    },
    {
      "cell_type": "code",
      "execution_count": null,
      "metadata": {
        "colab": {
          "base_uri": "https://localhost:8080/"
        },
        "id": "1NOzKBgEri1-",
        "outputId": "4d4c809a-3b13-4117-eafb-3d94d9e0d3f8"
      },
      "outputs": [
        {
          "name": "stdout",
          "output_type": "stream",
          "text": [
            "What's your age?: 15\n",
            "Nope, still too young to drive\n"
          ]
        }
      ],
      "source": [
        "verify_driving_age_wo_parameters()"
      ]
    },
    {
      "cell_type": "markdown",
      "metadata": {
        "id": "pj6HcWYA7dH4"
      },
      "source": [
        "#**Listas**"
      ]
    },
    {
      "cell_type": "markdown",
      "metadata": {
        "id": "lUBAr4Tx7s2H"
      },
      "source": [
        "Las listas permiten almacenar varios valores en una única variable de tipo lista. El uso de corchetes es una de las características de estas listas, y los valores deben ser separados por comas."
      ]
    },
    {
      "cell_type": "code",
      "execution_count": null,
      "metadata": {
        "id": "8P8Uugd8744g"
      },
      "outputs": [],
      "source": [
        "ages = [15, 29, 10, 40, 60]"
      ]
    },
    {
      "cell_type": "code",
      "execution_count": null,
      "metadata": {
        "colab": {
          "base_uri": "https://localhost:8080/"
        },
        "id": "vJrDTps98FAi",
        "outputId": "b52a42c1-eae1-4c03-ff54-d6af5f8642f2"
      },
      "outputs": [
        {
          "data": {
            "text/plain": [
              "[15, 29, 10, 40, 60]"
            ]
          },
          "execution_count": 2,
          "metadata": {},
          "output_type": "execute_result"
        }
      ],
      "source": [
        "ages"
      ]
    },
    {
      "cell_type": "code",
      "execution_count": null,
      "metadata": {
        "colab": {
          "base_uri": "https://localhost:8080/"
        },
        "id": "Cup7VfAa8HjJ",
        "outputId": "06321c3e-0251-450b-be9b-1327945ebcde"
      },
      "outputs": [
        {
          "data": {
            "text/plain": [
              "list"
            ]
          },
          "execution_count": 7,
          "metadata": {},
          "output_type": "execute_result"
        }
      ],
      "source": [
        "type(ages) #it will return that it's a list"
      ]
    },
    {
      "cell_type": "code",
      "execution_count": null,
      "metadata": {
        "colab": {
          "base_uri": "https://localhost:8080/"
        },
        "id": "0o5Xl1XG8NSU",
        "outputId": "3d88bdf7-186a-44df-f337-9524cb214f07"
      },
      "outputs": [],
      "source": [
        "age = 30\n",
        "type(age)"
      ]
    },
    {
      "cell_type": "code",
      "execution_count": null,
      "metadata": {
        "colab": {
          "base_uri": "https://localhost:8080/"
        },
        "id": "Ih7-364j8St9",
        "outputId": "ec759e39-8706-4c4b-d9db-458d0d6538f1"
      },
      "outputs": [],
      "source": [
        "name = 'Stuart'\n",
        "type(name)"
      ]
    },
    {
      "cell_type": "code",
      "execution_count": null,
      "metadata": {
        "colab": {
          "base_uri": "https://localhost:8080/"
        },
        "id": "C6BKVKmlofsY",
        "outputId": "1a4251e1-ae6f-4c70-f7e1-30a872fb14ee"
      },
      "outputs": [
        {
          "data": {
            "text/plain": [
              "[15, 29, 10, 40, 60]"
            ]
          },
          "execution_count": 8,
          "metadata": {},
          "output_type": "execute_result"
        }
      ],
      "source": [
        "ages"
      ]
    },
    {
      "cell_type": "code",
      "execution_count": null,
      "metadata": {
        "colab": {
          "base_uri": "https://localhost:8080/"
        },
        "id": "9YrCJnukojqH",
        "outputId": "4f0ecdc6-52e0-4446-c5f2-e153506d6749"
      },
      "outputs": [
        {
          "data": {
            "text/plain": [
              "29"
            ]
          },
          "execution_count": 10,
          "metadata": {},
          "output_type": "execute_result"
        }
      ],
      "source": [
        "ages[1] #first value is always 0. So this returns the second value\n",
        "\n"
      ]
    },
    {
      "cell_type": "code",
      "execution_count": null,
      "metadata": {
        "colab": {
          "base_uri": "https://localhost:8080/"
        },
        "id": "BjaxKm6Gozuv",
        "outputId": "e2535a13-d75d-47b8-b639-c1ffd1023716"
      },
      "outputs": [
        {
          "data": {
            "text/plain": [
              "[15, 29, 10]"
            ]
          },
          "execution_count": 12,
          "metadata": {},
          "output_type": "execute_result"
        }
      ],
      "source": [
        "ages[0:2] #the last position (2) is excluded, so this will only return from 0 to 1.\n",
        "ages[0:3] #now it will have return 3 values"
      ]
    },
    {
      "cell_type": "code",
      "execution_count": null,
      "metadata": {
        "colab": {
          "base_uri": "https://localhost:8080/"
        },
        "id": "3gwUD9k4p0nn",
        "outputId": "55f9f2f0-4afe-435a-878f-79fb65ff711e"
      },
      "outputs": [
        {
          "data": {
            "text/plain": [
              "[15, 29, 10, 40, 60]"
            ]
          },
          "execution_count": 14,
          "metadata": {},
          "output_type": "execute_result"
        }
      ],
      "source": [
        "ages[:] #this returns all values"
      ]
    },
    {
      "cell_type": "code",
      "execution_count": null,
      "metadata": {
        "colab": {
          "base_uri": "https://localhost:8080/"
        },
        "id": "Vxv3l4Nap6oK",
        "outputId": "5fca51ba-5ca8-42d3-f4d8-8bbe487f57bc"
      },
      "outputs": [
        {
          "data": {
            "text/plain": [
              "[29, 10, 40, 60]"
            ]
          },
          "execution_count": 15,
          "metadata": {},
          "output_type": "execute_result"
        }
      ],
      "source": [
        "ages[1:] #this returns from position 1 to the latest one."
      ]
    },
    {
      "cell_type": "code",
      "execution_count": null,
      "metadata": {
        "colab": {
          "base_uri": "https://localhost:8080/"
        },
        "id": "_Ecs5ws_qCBC",
        "outputId": "e5e2ba9f-0771-4281-86eb-df971f7b14fd"
      },
      "outputs": [
        {
          "data": {
            "text/plain": [
              "60"
            ]
          },
          "execution_count": 16,
          "metadata": {},
          "output_type": "execute_result"
        }
      ],
      "source": [
        "ages[-1] #you can also use negative numbers. In this case -1 belongs to the last value"
      ]
    },
    {
      "cell_type": "code",
      "execution_count": null,
      "metadata": {
        "colab": {
          "base_uri": "https://localhost:8080/"
        },
        "id": "1Wo56FWWqPf6",
        "outputId": "0156fbe3-835a-41e3-aa02-b68275d7a812"
      },
      "outputs": [
        {
          "data": {
            "text/plain": [
              "10"
            ]
          },
          "execution_count": 18,
          "metadata": {},
          "output_type": "execute_result"
        }
      ],
      "source": [
        "ages[-3] #-3 is the third value from the latest to first"
      ]
    },
    {
      "cell_type": "code",
      "execution_count": null,
      "metadata": {
        "colab": {
          "base_uri": "https://localhost:8080/"
        },
        "id": "J2W6l-hAqy4W",
        "outputId": "69b85bc3-f34a-4c9b-895b-4a4233f2d9c3"
      },
      "outputs": [
        {
          "data": {
            "text/plain": [
              "10"
            ]
          },
          "execution_count": 20,
          "metadata": {},
          "output_type": "execute_result"
        }
      ],
      "source": [
        "ages[2] #the same result with positive number"
      ]
    },
    {
      "cell_type": "markdown",
      "metadata": {
        "id": "7hMGa6Bgs3TK"
      },
      "source": [
        "#**Bucles y Ciclos (Loops)**"
      ]
    },
    {
      "cell_type": "code",
      "execution_count": null,
      "metadata": {
        "colab": {
          "base_uri": "https://localhost:8080/"
        },
        "id": "F3_5d6iMs7UT",
        "outputId": "98168ae1-f03e-4c2d-db65-ccf8615d2697"
      },
      "outputs": [
        {
          "name": "stdout",
          "output_type": "stream",
          "text": [
            "You aren't allowed to drive yet.\n",
            "You aren't allowed to drive yet.\n",
            "You are allowed to drive.\n",
            "You are allowed to drive.\n",
            "You are allowed to drive.\n"
          ]
        }
      ],
      "source": [
        "ages = [8, 13, 24, 50, 52]\n",
        "\n",
        "def verify_driving_age(age):\n",
        "  if age >= 18:\n",
        "    print('You are allowed to drive.')\n",
        "  else:\n",
        "    print('You aren\\'t allowed to drive yet.')\n",
        "\n",
        "#for loop outside the function\n",
        "for age in ages:\n",
        "  verify_driving_age(age)\n"
      ]
    },
    {
      "cell_type": "code",
      "execution_count": null,
      "metadata": {
        "colab": {
          "base_uri": "https://localhost:8080/"
        },
        "id": "wD8R3AlouEWU",
        "outputId": "33523a21-9adf-4e06-f2eb-723ab3cea1da"
      },
      "outputs": [
        {
          "name": "stdout",
          "output_type": "stream",
          "text": [
            "You aren't allowed to drive yet.\n",
            "You aren't allowed to drive yet.\n",
            "You are allowed to drive.\n",
            "You are allowed to drive.\n",
            "You are allowed to drive.\n"
          ]
        }
      ],
      "source": [
        "ages = [8, 13, 24, 50, 52]\n",
        "#For loop inside the function\n",
        "def verify_driving_age_loop(ages):\n",
        "  for age in ages:\n",
        "    if age >= 18:\n",
        "      print('You are allowed to drive.')\n",
        "    else:\n",
        "      print('You aren\\'t allowed to drive yet.')\n",
        "\n",
        "verify_driving_age_loop(ages)"
      ]
    },
    {
      "cell_type": "markdown",
      "metadata": {
        "id": "R2yTa0F4vaY3"
      },
      "source": [
        "#**Booleans**"
      ]
    },
    {
      "cell_type": "code",
      "execution_count": null,
      "metadata": {
        "id": "WMvJfxd7vdWn"
      },
      "outputs": [],
      "source": [
        "age = 18"
      ]
    },
    {
      "cell_type": "code",
      "execution_count": null,
      "metadata": {
        "colab": {
          "base_uri": "https://localhost:8080/"
        },
        "id": "kU9Y-pOMvg7K",
        "outputId": "6c6a8d19-de07-478a-e526-864f425c6bbe"
      },
      "outputs": [
        {
          "data": {
            "text/plain": [
              "True"
            ]
          },
          "execution_count": 31,
          "metadata": {},
          "output_type": "execute_result"
        }
      ],
      "source": [
        "age >= 18"
      ]
    },
    {
      "cell_type": "code",
      "execution_count": null,
      "metadata": {
        "colab": {
          "base_uri": "https://localhost:8080/"
        },
        "id": "oQ3bQpcYvlse",
        "outputId": "eecc2d85-575a-4684-fc1b-9308ea784e95"
      },
      "outputs": [
        {
          "data": {
            "text/plain": [
              "False"
            ]
          },
          "execution_count": 32,
          "metadata": {},
          "output_type": "execute_result"
        }
      ],
      "source": [
        "age < 18"
      ]
    },
    {
      "cell_type": "code",
      "execution_count": null,
      "metadata": {
        "colab": {
          "base_uri": "https://localhost:8080/"
        },
        "id": "oKSANhs3vojU",
        "outputId": "e328eb2e-f968-4e37-a896-e779a361ab14"
      },
      "outputs": [
        {
          "data": {
            "text/plain": [
              "True"
            ]
          },
          "execution_count": 33,
          "metadata": {},
          "output_type": "execute_result"
        }
      ],
      "source": [
        "age == 18"
      ]
    },
    {
      "cell_type": "code",
      "execution_count": null,
      "metadata": {
        "colab": {
          "base_uri": "https://localhost:8080/"
        },
        "id": "rdWFE4OKvsmZ",
        "outputId": "b1b092b1-ab53-4fce-f7c5-93f14eb7cbac"
      },
      "outputs": [],
      "source": [
        "verify = []\n",
        "ages = [5, 30, 16, 18]\n",
        "\n",
        "def verify_driving_age_bool(verify, ages):\n",
        "  for age in ages:\n",
        "    if age >= 18:\n",
        "      verify.append(True)\n",
        "    else:\n",
        "      verify.append(False)\n",
        "  for verification in verify:\n",
        "    if verification == True:\n",
        "      print('You can drive!')\n",
        "    else:\n",
        "      print('You cannot drive :(')\n",
        "\n",
        "verify_driving_age_bool(verify, ages) #calling the function and passing the parameters\n"
      ]
    },
    {
      "cell_type": "markdown",
      "metadata": {
        "id": "Y5YzCEGyzXRu"
      },
      "source": [
        "#**List with different data types**"
      ]
    },
    {
      "cell_type": "code",
      "execution_count": null,
      "metadata": {
        "id": "0pPjhlSUzggV"
      },
      "outputs": [],
      "source": [
        "person = ['Helga', 24, True, 'Germany']"
      ]
    },
    {
      "cell_type": "code",
      "execution_count": null,
      "metadata": {
        "colab": {
          "base_uri": "https://localhost:8080/"
        },
        "id": "EmpstUF6zq9J",
        "outputId": "1ef74421-6a13-4cbc-c79b-bf594f256f72"
      },
      "outputs": [],
      "source": [
        "for element in person:\n",
        "  print(f'The element {element} of the list is: ', type(element))"
      ]
    },
    {
      "cell_type": "markdown",
      "metadata": {
        "id": "ntAeZFyU3Msv"
      },
      "source": [
        "#**Importing libraries**"
      ]
    },
    {
      "cell_type": "code",
      "execution_count": null,
      "metadata": {
        "id": "fY1byWRv3QAX"
      },
      "outputs": [],
      "source": [
        "#import randrange from the 'random' library\n",
        "#we import only a fragment or module of a library 'randrange' and 'seed' \n",
        "#so we don't use too much memory with code we won't use\n",
        "from random import randrange, seed"
      ]
    },
    {
      "cell_type": "code",
      "execution_count": null,
      "metadata": {
        "colab": {
          "base_uri": "https://localhost:8080/"
        },
        "id": "PYtDY3w53ZeN",
        "outputId": "b1f0f3e9-64f3-4b7a-81e3-a1c4fe998477"
      },
      "outputs": [
        {
          "data": {
            "text/plain": [
              "1"
            ]
          },
          "execution_count": 10,
          "metadata": {},
          "output_type": "execute_result"
        }
      ],
      "source": [
        "#Generates random numbers\n",
        "randrange(0, 11)"
      ]
    },
    {
      "cell_type": "code",
      "execution_count": null,
      "metadata": {
        "id": "SRK3tUOB9qZO"
      },
      "outputs": [],
      "source": [
        "math_grades = []"
      ]
    },
    {
      "cell_type": "code",
      "execution_count": null,
      "metadata": {
        "id": "tUAtNT7W9vYx"
      },
      "outputs": [],
      "source": [
        "math_grades.append(randrange(0, 11))"
      ]
    },
    {
      "cell_type": "code",
      "execution_count": null,
      "metadata": {
        "colab": {
          "base_uri": "https://localhost:8080/"
        },
        "id": "b9QCZgSr91tY",
        "outputId": "25a78a75-ba72-4226-90fc-65124d564882"
      },
      "outputs": [
        {
          "data": {
            "text/plain": [
              "[5]"
            ]
          },
          "execution_count": 13,
          "metadata": {},
          "output_type": "execute_result"
        }
      ],
      "source": [
        "math_grades"
      ]
    },
    {
      "cell_type": "code",
      "execution_count": null,
      "metadata": {
        "id": "M4BkInNe9_Ir"
      },
      "outputs": [],
      "source": [
        "math_grades = []\n",
        "#seed(8) ==> all random numbers will always be the same // pseudo-random\n",
        "for grades in range(6):\n",
        "  math_grades.append(randrange(0, 11))"
      ]
    },
    {
      "cell_type": "code",
      "execution_count": null,
      "metadata": {
        "colab": {
          "base_uri": "https://localhost:8080/"
        },
        "id": "pNtufuaJ-FNR",
        "outputId": "d4f6685b-7ef4-4285-9a0b-ed06f9bbf9ff"
      },
      "outputs": [
        {
          "data": {
            "text/plain": [
              "[1, 7, 5, 9, 4, 1]"
            ]
          },
          "execution_count": 15,
          "metadata": {},
          "output_type": "execute_result"
        }
      ],
      "source": [
        "math_grades"
      ]
    },
    {
      "cell_type": "code",
      "execution_count": null,
      "metadata": {
        "colab": {
          "base_uri": "https://localhost:8080/"
        },
        "id": "c-02PeRC-fjP",
        "outputId": "bae9cd32-b41c-4691-c058-0d24c129c17a"
      },
      "outputs": [
        {
          "data": {
            "text/plain": [
              "6"
            ]
          },
          "execution_count": 16,
          "metadata": {},
          "output_type": "execute_result"
        }
      ],
      "source": [
        "len(math_grades) #cantidad de valores en una lista"
      ]
    }
  ],
  "metadata": {
    "colab": {
      "provenance": []
    },
    "kernelspec": {
      "display_name": "Python 3",
      "name": "python3"
    },
    "language_info": {
      "name": "python"
    }
  },
  "nbformat": 4,
  "nbformat_minor": 0
}
