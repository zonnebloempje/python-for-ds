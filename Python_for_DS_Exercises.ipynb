{
  "nbformat": 4,
  "nbformat_minor": 0,
  "metadata": {
    "colab": {
      "provenance": []
    },
    "kernelspec": {
      "name": "python3",
      "display_name": "Python 3"
    },
    "language_info": {
      "name": "python"
    }
  },
  "cells": [
    {
      "cell_type": "markdown",
      "source": [
        "##**Cuál es el valor de a?**"
      ],
      "metadata": {
        "id": "gE4HiOLPy0LN"
      }
    },
    {
      "cell_type": "code",
      "execution_count": null,
      "metadata": {
        "colab": {
          "base_uri": "https://localhost:8080/"
        },
        "id": "DWynJInDyr04",
        "outputId": "31527b01-3a51-4bfa-9290-15b0f0688dd4"
      },
      "outputs": [
        {
          "output_type": "stream",
          "name": "stdout",
          "text": [
            "10\n"
          ]
        }
      ],
      "source": [
        "a = 2\n",
        "\n",
        "if a < 2:\n",
        "  a = a + 1\n",
        "else:\n",
        "  a = a + 2\n",
        "if a < 4:\n",
        "  a = a - 4\n",
        "else:\n",
        "  a = a + 6\n",
        "\n",
        "print(a)"
      ]
    },
    {
      "cell_type": "markdown",
      "source": [
        "*En la primera condición if se comprueba si el contenido de la variable a es menor que 2. El valor almacenado en a es 2. Por lo tanto, podemos afirmar que 2 no es menor que 2. Continuando con la sentencia condicional, el proceso entra en el else. Entonces, la variable a es sumada de 2 y acaba atribuyendo el valor 4. Luego en la secuencia, en el segundo if verifica si a es menor que 4. Nuevamente, podemos afirmar que 4 no es menor que 4. Por lo tanto, el flujo entra al segundo else y en este caso acaba sumando 6 al 4 que ya tenía a. Es así que, el valor final es 10.*"
      ],
      "metadata": {
        "id": "WSSzbWjXy-DG"
      }
    },
    {
      "cell_type": "markdown",
      "source": [],
      "metadata": {
        "id": "f2GTZPt9zG2l"
      }
    },
    {
      "cell_type": "markdown",
      "source": [
        "##**Listas en Python**"
      ],
      "metadata": {
        "id": "P1tY9n1T0IBI"
      }
    },
    {
      "cell_type": "markdown",
      "source": [
        "Una lista se representa como una secuencia de objetos separados por coma y encerrados entre corchetes [ ]. En Python, una lista puede almacenar elementos de diferentes tipos, como se muestra en la siguiente sintaxis:"
      ],
      "metadata": {
        "id": "ALKWpERU0OEa"
      }
    },
    {
      "cell_type": "code",
      "source": [
        "list = ['int', False, True, '18', 2020]"
      ],
      "metadata": {
        "id": "BKoCqUjK0TK3"
      },
      "execution_count": null,
      "outputs": []
    },
    {
      "cell_type": "markdown",
      "source": [
        "Para descubrir el tipo de cada elemento, podemos crear un loop, como se muestra en el siguiente código:"
      ],
      "metadata": {
        "id": "Y-kfkhG30ZVQ"
      }
    },
    {
      "cell_type": "code",
      "source": [
        "for element in list:\n",
        " print(type(element))"
      ],
      "metadata": {
        "colab": {
          "base_uri": "https://localhost:8080/"
        },
        "id": "i0bkOvu00ekx",
        "outputId": "d48d1775-0fed-478f-f0fb-b880818dfb38"
      },
      "execution_count": null,
      "outputs": [
        {
          "output_type": "stream",
          "name": "stdout",
          "text": [
            "<class 'str'>\n",
            "<class 'bool'>\n",
            "<class 'bool'>\n",
            "<class 'str'>\n",
            "<class 'int'>\n"
          ]
        }
      ]
    },
    {
      "cell_type": "markdown",
      "source": [
        "##**Nomenclatura de variables y tipo float**"
      ],
      "metadata": {
        "id": "LyOAX8N10vpi"
      }
    },
    {
      "cell_type": "markdown",
      "source": [
        "Podemos pedirle a Python que recuerde un valor que queremos utilizar. Python almacenará este valor en una variable.\n",
        "\n",
        "Variable es un nombre que hace referencia a un valor. Es como una etiqueta que colocamos a ese valor y cuando necesitamos usarla, la llamamos por el nombre que se le asignó en la etiqueta.\n",
        "\n",
        "El comando de asignación (el signo igual =) crea una nueva variable y le asigna un valor, como vimos en clases."
      ],
      "metadata": {
        "id": "ZqugDkXw03Mz"
      }
    },
    {
      "cell_type": "markdown",
      "source": [
        "###**Float**"
      ],
      "metadata": {
        "id": "IVsRjaLI06NV"
      }
    },
    {
      "cell_type": "markdown",
      "source": [
        "Además de los tipos que se vieron en la clase, existe un tipo para almacenar un valor decimal, como se muestra en el siguiente ejemplo:"
      ],
      "metadata": {
        "id": "Kn8wlqnu09SD"
      }
    },
    {
      "cell_type": "code",
      "source": [
        "pi = 3.14\n",
        "type(pi)"
      ],
      "metadata": {
        "colab": {
          "base_uri": "https://localhost:8080/"
        },
        "id": "79-D1Qj10_8k",
        "outputId": "0493f886-2f4b-48d5-b696-ec48a18c1b82"
      },
      "execution_count": null,
      "outputs": [
        {
          "output_type": "execute_result",
          "data": {
            "text/plain": [
              "float"
            ]
          },
          "metadata": {},
          "execution_count": 5
        }
      ]
    },
    {
      "cell_type": "markdown",
      "source": [
        "Al ejecutar ese código, podemos observar que la salida será:\n",
        "\n",
        "[float](https://docs.python.org/pt-br/3/library/functions.html?highlight=float#float%28%29)\n",
        "\n",
        "Observa que, en vez de separar el valor con coma (3,14), usamos un punto (3.14)."
      ],
      "metadata": {
        "id": "FOh_1kUr1Izh"
      }
    },
    {
      "cell_type": "markdown",
      "source": [
        "###**Nombre de las variables**"
      ],
      "metadata": {
        "id": "M09eH7UK1Pop"
      }
    },
    {
      "cell_type": "markdown",
      "source": [
        "Programadores eligen nombres para variables que sean semánticas. Estos nombres pueden ser muy largos, pueden contener letras y números.\n",
        "\n",
        "Es una convención entre los programadores de Python comenzar la variable con letras minúsculas y utilizar el underscore ( _ ) para separar palabras como: mi_nombre, numero_de_registro, telefono_residencial. Este padrón se llama [snake case](https://en.wikipedia.org/wiki/Snake_case)."
      ],
      "metadata": {
        "id": "VwnBOMZ01THN"
      }
    },
    {
      "cell_type": "markdown",
      "source": [],
      "metadata": {
        "id": "A1-8O2sV2AGW"
      }
    }
  ]
}